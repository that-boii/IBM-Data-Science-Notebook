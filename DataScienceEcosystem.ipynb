{
 "cells": [
  {
   "cell_type": "markdown",
   "id": "a2f1889b-c4d8-41d4-b06c-3321ed7bb42b",
   "metadata": {
    "tags": []
   },
   "source": [
    "# Data Science Tools and Ecosystem"
   ]
  },
  {
   "cell_type": "markdown",
   "id": "9338d0ac-1383-47b1-954c-e38929c07ee3",
   "metadata": {},
   "source": [
    "In this notebook, Data Science and Tools are summarized."
   ]
  },
  {
   "cell_type": "markdown",
   "id": "58996fe9-c214-444a-9beb-f4885004918d",
   "metadata": {},
   "source": [
    "**Objectives:**\n",
    "* List popular languages for Data Science.\n",
    "* List commonly used libraries for Data Science.\n",
    "* List common development environment open source tools used in Data Science."
   ]
  },
  {
   "cell_type": "markdown",
   "id": "30d50709-e104-485f-9b20-e47d4fd534d5",
   "metadata": {},
   "source": [
    "Some of the popular languages that Data Scientists use are:\n",
    "1. Python\n",
    "2. R\n",
    "3. Julia\n",
    "4. SQL\n",
    "5. Scala"
   ]
  },
  {
   "cell_type": "markdown",
   "id": "4b5a7c1b-e788-4665-8c8f-c62d96b35aff",
   "metadata": {},
   "source": [
    "Some of the commonly used libraries used by Data Scientists include:\n",
    "1. NumPy\n",
    "2. Pandas\n",
    "3. Matplotlib\n",
    "4. SciKit-Learn\n",
    "5. Caret"
   ]
  },
  {
   "cell_type": "markdown",
   "id": "254814b3-f93a-46d6-bf05-72623afa7bc1",
   "metadata": {},
   "source": [
    "|Data Science Tools|\n",
    "|-----------|\n",
    "|Apache Hadoop|\n",
    "|Apache Airflow|\n",
    "|Tensorflow|"
   ]
  },
  {
   "cell_type": "markdown",
   "id": "89709d2a-fec3-4653-a102-e49fc80cc49b",
   "metadata": {},
   "source": [
    "### Below are a few examples of evaluating arithmetic expressions in Python:"
   ]
  },
  {
   "cell_type": "code",
   "execution_count": 2,
   "id": "86a8ea32-3c0f-46db-915f-f1accab92e3b",
   "metadata": {},
   "outputs": [
    {
     "data": {
      "text/plain": [
       "17"
      ]
     },
     "execution_count": 2,
     "metadata": {},
     "output_type": "execute_result"
    }
   ],
   "source": [
    "# This is a simple arithmetic expression to multiply then add integers.\n",
    "(3*4)+5"
   ]
  },
  {
   "cell_type": "code",
   "execution_count": 8,
   "id": "027b8907-99b5-40cf-9f18-1fd681969790",
   "metadata": {},
   "outputs": [
    {
     "name": "stdout",
     "output_type": "stream",
     "text": [
      "200 minutes converts to 3.33 hours\n"
     ]
    }
   ],
   "source": [
    "# This will convert 200 minutes to hours by dividing by 60.\n",
    "m = 200\n",
    "h = 60\n",
    "conv = round(200/60, 2)\n",
    "print(str(m) + \" minutes converts to \" + str(conv) + \" hours\")"
   ]
  },
  {
   "cell_type": "markdown",
   "id": "1b24b732-84ca-4533-bd1d-8fc16c7c675a",
   "metadata": {},
   "source": [
    "## Author\n",
    "Zachary Jackson"
   ]
  },
  {
   "cell_type": "code",
   "execution_count": null,
   "id": "854b966d-1ea4-46b9-9ddb-1ee76fd07a55",
   "metadata": {},
   "outputs": [],
   "source": []
  }
 ],
 "metadata": {
  "kernelspec": {
   "display_name": "Python",
   "language": "python",
   "name": "conda-env-python-py"
  },
  "language_info": {
   "codemirror_mode": {
    "name": "ipython",
    "version": 3
   },
   "file_extension": ".py",
   "mimetype": "text/x-python",
   "name": "python",
   "nbconvert_exporter": "python",
   "pygments_lexer": "ipython3",
   "version": "3.7.12"
  }
 },
 "nbformat": 4,
 "nbformat_minor": 5
}
